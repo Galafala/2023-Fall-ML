{
 "cells": [
  {
   "cell_type": "markdown",
   "metadata": {},
   "source": [
    "# Problem 1"
   ]
  },
  {
   "cell_type": "code",
   "execution_count": 1,
   "metadata": {},
   "outputs": [],
   "source": [
    "import torch\n",
    "import torch.nn as nn\n",
    "import numpy as np\n",
    "import matplotlib.pyplot as plt\n",
    "from tqdm import tqdm"
   ]
  },
  {
   "cell_type": "code",
   "execution_count": 2,
   "metadata": {},
   "outputs": [],
   "source": [
    "def TC_voltage(V):\n",
    "    return np.sin(2*np.pi*V)+0.1*np.random.rand(len(V))\n",
    "\n",
    "class Net(torch.nn.Module):\n",
    "    def __init__(self, n_feature, n_hidden, n_output):\n",
    "        super().__init__()\n",
    "        self.hidden = nn.Linear(n_feature, n_hidden)   # hidden layer\n",
    "        self.hidden1 = nn.Linear(n_hidden, n_hidden)   # hidden layer\n",
    "        self.predict = nn.Linear(n_hidden, n_output)   # output layer\n",
    "        self.tan = torch.nn.Tanh()\n",
    "\n",
    "    def forward(self, x):\n",
    "        x = self.tan(self.hidden(x))\n",
    "        x = self.predict(x)\n",
    "        return x"
   ]
  },
  {
   "cell_type": "code",
   "execution_count": 3,
   "metadata": {},
   "outputs": [
    {
     "name": "stdout",
     "output_type": "stream",
     "text": [
      "torch.Size([200, 1]) torch.Size([200, 1])\n"
     ]
    }
   ],
   "source": [
    "x_np = np.arange(0, 2, 0.01)\n",
    "x = torch.tensor(x_np.reshape(-1,1), dtype=torch.float32)\n",
    "y_np = TC_voltage(x_np)\n",
    "y = torch.tensor(y_np.reshape(-1,1), dtype=torch.float32)\n",
    "\n",
    "print(x.shape, y.shape)"
   ]
  },
  {
   "cell_type": "code",
   "execution_count": 4,
   "metadata": {},
   "outputs": [
    {
     "name": "stderr",
     "output_type": "stream",
     "text": [
      " 78%|███████▊  | 1556/2000 [00:01<00:00, 1546.72it/s]"
     ]
    },
    {
     "name": "stdout",
     "output_type": "stream",
     "text": [
      "Early stop at 1556 epochs with loss less than 0.001.\n",
      "Epoch 1556: 0.000998588977381587\n",
      "RMSE: 0.04468979686498642\n"
     ]
    },
    {
     "name": "stderr",
     "output_type": "stream",
     "text": [
      "\n"
     ]
    }
   ],
   "source": [
    "def rmse(y, y_pred):\n",
    "    return torch.sqrt(torch.mean((y - y_pred)**2))\n",
    "\n",
    "net = Net(n_feature=1, n_hidden=10, n_output=1)\n",
    "optimizer = torch.optim.Adam(net.parameters(), lr=0.01)\n",
    "loss_func = torch.nn.SmoothL1Loss()  # this is for regression mean squared loss\n",
    "for t in tqdm(range(2000)):\n",
    "    prediction = net(x)\n",
    "\n",
    "    loss = loss_func(y, prediction)\n",
    "    if loss.item() < 0.001:\n",
    "        print(f'Early stop at {t} epochs with loss less than 0.001.')\n",
    "        break\n",
    "\n",
    "    optimizer.zero_grad()   # clear gradients\n",
    "    loss.backward()         # backpropagation\n",
    "    optimizer.step()        # apply gradients\n",
    "\n",
    "print(f'Epoch {t}: {loss.item()}')\n",
    "print(f'RMSE: {rmse(y, prediction).item()}')"
   ]
  },
  {
   "cell_type": "code",
   "execution_count": 5,
   "metadata": {},
   "outputs": [
    {
     "data": {
      "image/png": "[encoded data removed]",
      "text/plain": [
       "<Figure size 432x288 with 1 Axes>"
      ]
     },
     "metadata": {
      "needs_background": "light"
     },
     "output_type": "display_data"
    }
   ],
   "source": [
    "plt.clf()\n",
    "plt.plot(x.numpy(), prediction.data.numpy(), '-', c='cyan', lw=2, label='Prediction')\n",
    "plt.scatter(x.numpy(), y.data.numpy(), c='orange', s=5, label='Groundtruth')\n",
    "plt.legend()\n",
    "plt.show()"
   ]
  },
  {
   "cell_type": "markdown",
   "metadata": {},
   "source": [
    "模型訓練1556 epochs後收斂。但最終收斂所需之epoch數與ANN的neuron數量相關，若數量過少，模型不一定可良好的預測，若過多可能會過擬合。"
   ]
  },
  {
   "cell_type": "markdown",
   "metadata": {},
   "source": [
    "# Problem 2"
   ]
  },
  {
   "cell_type": "code",
   "execution_count": 6,
   "metadata": {},
   "outputs": [],
   "source": [
    "import torch.utils.data as Data\n",
    "import scipy.io as sio"
   ]
  },
  {
   "cell_type": "code",
   "execution_count": 7,
   "metadata": {},
   "outputs": [],
   "source": [
    "class CNN(nn.Module):\n",
    "    def __init__(self):\n",
    "        super(CNN, self).__init__()\n",
    "        self.conv1 = nn.Sequential(         # input shape (1, 28, 28)\n",
    "            nn.Conv2d(\n",
    "                in_channels=1,              # input height\n",
    "                out_channels=16,            # n_filters\n",
    "                kernel_size=5,              # filter size\n",
    "                stride=1,                   # filter movement/step\n",
    "                padding=2,                  # padding=(kernel_size-1)/2\n",
    "            ),                              # output shape (16, 28, 28)\n",
    "            nn.BatchNorm2d(16),             # Batch Normalization\n",
    "            nn.ReLU(),                      # activation\n",
    "            # choose max value in 2x2 area, output shape (16, 14, 14)\n",
    "            nn.MaxPool2d(kernel_size=2),\n",
    "        )\n",
    "        self.conv2 = nn.Sequential(         # input shape (16, 14, 14)\n",
    "            nn.Conv2d(16, 32, 5, 1, 2),     # output shape (32, 14, 14)\n",
    "            nn.BatchNorm2d(32),             # Batch Normalization\n",
    "            nn.ReLU(),                      # activation\n",
    "            nn.MaxPool2d(2),                # output shape (32, 7, 7)\n",
    "        )\n",
    "        self.fc_layers = nn.Sequential(\n",
    "            # fully connected layer, output 256 classes\n",
    "            nn.Linear(32 * 7 * 7, 256),\n",
    "            nn.ReLU(),                      # activation\n",
    "        )\n",
    "        # fully connected layer, output 10 classes\n",
    "        self.out = nn.Linear(256, 10)\n",
    "\n",
    "    def forward(self, x):\n",
    "        x = self.conv1(x)\n",
    "        x = self.conv2(x)\n",
    "        # flatten the output to (batch_size, 32 * 7 * 7)\n",
    "        x = x.flatten(1)\n",
    "        x = self.fc_layers(x)\n",
    "        output = self.out(x)\n",
    "        output = nn.functional.softmax(output, dim=1)   # softmax\n",
    "        return output"
   ]
  },
  {
   "cell_type": "code",
   "execution_count": 17,
   "metadata": {},
   "outputs": [],
   "source": [
    "EPOCH = 2\n",
    "BATCH_SIZE = 10\n",
    "LR = 0.0005\n",
    "\n",
    "def dataset(mat_contents, category):\n",
    "    data = np.array([mat_contents[key].astype(float) for key in mat_contents.keys()\\\n",
    "                        if key.startswith(category)])\n",
    "    \n",
    "    data_class = np.repeat(range(data.shape[0]), data[0].shape[0]).reshape(10, -1)\n",
    "    \n",
    "    data_tensor = torch.tensor(data, dtype=torch.float32).view(-1, 1, 28, 28)\n",
    "    data_tensor = nn.functional.normalize(data_tensor, dim=1)\n",
    "    data_class_tensor = torch.tensor(data_class, dtype=torch.int64).view(-1)\n",
    "\n",
    "    dataset = Data.TensorDataset(data_tensor, data_class_tensor)\n",
    "\n",
    "    if category == 'train':\n",
    "        loader = Data.DataLoader(dataset=dataset, batch_size=BATCH_SIZE, shuffle=True)\n",
    "    else:\n",
    "        loader = Data.DataLoader(dataset=dataset, shuffle=True)\n",
    "\n",
    "    return loader\n",
    "\n",
    "mat_contents = sio.loadmat('/Users/ben/Desktop/Programing/ML/07Homework/07HW2_digit.mat')\n",
    "\n",
    "train_loader = dataset(mat_contents, 'train')\n",
    "test_loader = dataset(mat_contents, 'test')"
   ]
  },
  {
   "cell_type": "code",
   "execution_count": 18,
   "metadata": {},
   "outputs": [
    {
     "name": "stdout",
     "output_type": "stream",
     "text": [
      "Epoch:  0 | train loss: 2.3005 | test accuracy: 0.10\n",
      "Epoch:  0 | train loss: 1.7859 | test accuracy: 0.72\n",
      "Epoch:  0 | train loss: 1.6602 | test accuracy: 0.82\n",
      "Epoch:  0 | train loss: 1.6281 | test accuracy: 0.92\n",
      "Epoch:  0 | train loss: 1.4680 | test accuracy: 0.93\n",
      "Epoch:  1 | train loss: 1.4697 | test accuracy: 0.94\n",
      "Epoch:  1 | train loss: 1.4649 | test accuracy: 0.94\n",
      "Epoch:  1 | train loss: 1.5657 | test accuracy: 0.95\n",
      "Epoch:  1 | train loss: 1.5821 | test accuracy: 0.94\n",
      "Epoch:  1 | train loss: 1.4978 | test accuracy: 0.95\n",
      "learning rate : 0.0005\n",
      "batch size : 10\n",
      "EPOCH : 2\n",
      "final_test_accuracy : 0.926\n",
      "final_train_accuracy : 1.0\n"
     ]
    }
   ],
   "source": [
    "cnn = CNN()\n",
    "# optimize all cnn parameters\n",
    "opti = torch.optim.Adam(cnn.parameters(), lr=LR)\n",
    "loss_func = nn.CrossEntropyLoss()\n",
    "\n",
    "test_data = test_loader.dataset.tensors[0]\n",
    "test_class = test_loader.dataset.tensors[1]\n",
    "\n",
    "# training and testing\n",
    "for epoch in range(EPOCH):\n",
    "    for step, (train_data, train_class) in enumerate(train_loader):   # batch data\n",
    "        output = cnn(train_data)               # cnn output\n",
    "        loss = loss_func(output, train_class)   # cross entropy loss\n",
    "        opti.zero_grad()                    # clear gradients for this training step\n",
    "        loss.backward()                     # backpropagation\n",
    "        opti.step()                         # apply gradients\n",
    "\n",
    "        if step % 100 == 0:\n",
    "            test_output = cnn(test_data)\n",
    "            pred_y = torch.max(test_output, 1)[1].data.numpy()\n",
    "            accuracy = float((pred_y == test_class.data.numpy()).astype(\n",
    "                int).sum()) / float(test_class.size(0))\n",
    "            print('Epoch: ', epoch, '| train loss: %.4f' %\n",
    "                  loss.data.numpy(), '| test accuracy: %.2f' % accuracy)\n",
    "\n",
    "# final accuracy\n",
    "train_output = cnn(train_data)\n",
    "pred_y = torch.max(train_output, 1)[1].data.numpy()\n",
    "train_accuracy = float((pred_y == train_class.data.numpy()).astype(\n",
    "    int).sum()) / float(train_class.size(0))\n",
    "test_output = cnn(test_data)\n",
    "pred_y = torch.max(test_output, 1)[1].data.numpy()\n",
    "test_accuracy = float((pred_y == test_class.data.numpy()).astype(\n",
    "    int).sum()) / float(test_class.size(0))\n",
    "print('learning rate : '+str(LR))\n",
    "print('batch size : '+str(BATCH_SIZE))\n",
    "print('EPOCH : '+str(EPOCH))\n",
    "print('final_test_accuracy : '+str(test_accuracy))\n",
    "print('final_train_accuracy : '+str(train_accuracy))"
   ]
  }
 ],
 "metadata": {
  "kernelspec": {
   "display_name": "Python 3",
   "language": "python",
   "name": "python3"
  },
  "language_info": {
   "codemirror_mode": {
    "name": "ipython",
    "version": 3
   },
   "file_extension": ".py",
   "mimetype": "text/x-python",
   "name": "python",
   "nbconvert_exporter": "python",
   "pygments_lexer": "ipython3",
   "version": "3.8.1"
  }
 },
 "nbformat": 4,
 "nbformat_minor": 2
}

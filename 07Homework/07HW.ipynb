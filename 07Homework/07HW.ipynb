{
 "cells": [
  {
   "cell_type": "markdown",
   "metadata": {},
   "source": [
    "# Problem 2"
   ]
  },
  {
   "cell_type": "code",
   "execution_count": 22,
   "metadata": {},
   "outputs": [],
   "source": [
    "import scipy.io as sio\n",
    "import numpy as np\n",
    "import matplotlib.pyplot as plt\n",
    "from sklearn import svm"
   ]
  },
  {
   "cell_type": "code",
   "execution_count": 19,
   "metadata": {},
   "outputs": [],
   "source": [
    "mat_contents = sio.loadmat('07HW2_digit.mat')\n",
    "train_data = np.array([mat_contents[key].astype(float) for key in mat_contents.keys() if key.startswith('train')])\n",
    "test_data = np.array([mat_contents[key].astype(float) for key in mat_contents.keys() if key.startswith('test')])"
   ]
  },
  {
   "cell_type": "code",
   "execution_count": 74,
   "metadata": {},
   "outputs": [],
   "source": [
    "def normalize(data):\n",
    "    min_val = np.min(data)\n",
    "    max_val = np.max(data)\n",
    "    return (data - min_val) / (max_val - min_val)\n",
    "\n",
    "train_data = normalize(train_data)\n",
    "test_data = normalize(test_data)"
   ]
  },
  {
   "cell_type": "code",
   "execution_count": 75,
   "metadata": {},
   "outputs": [],
   "source": [
    "Gammas = [2**i for i in range(-14, -5)]\n",
    "Cs = [2**i for i in range(-5, 4)]\n",
    "\n",
    "train_class = np.repeat(range(2), train_data[0].shape[0])\n",
    "test_class = np.repeat(range(2), test_data[0].shape[0])\n",
    "train = np.append(train_data[0, :], train_data[1, :], axis=0)\n",
    "test = np.append(test_data[0, :], test_data[1, :], axis=0)"
   ]
  },
  {
   "cell_type": "markdown",
   "metadata": {},
   "source": [
    "## (a)"
   ]
  },
  {
   "cell_type": "code",
   "execution_count": 76,
   "metadata": {},
   "outputs": [
    {
     "name": "stdout",
     "output_type": "stream",
     "text": [
      "[[0.94  0.94  0.94  0.94  0.985 0.99  0.995 1.    1.   ]\n",
      " [0.94  0.94  0.94  0.985 0.99  0.995 1.    1.    1.   ]\n",
      " [0.94  0.94  0.985 0.99  0.995 1.    1.    1.    1.   ]\n",
      " [0.945 0.985 0.99  0.995 1.    1.    1.    1.    1.   ]\n",
      " [0.985 0.99  0.995 1.    1.    1.    1.    1.    1.   ]\n",
      " [0.99  0.995 1.    1.    1.    1.    1.    1.    1.   ]\n",
      " [0.995 1.    1.    1.    1.    1.    1.    1.    1.   ]\n",
      " [1.    1.    1.    1.    1.    1.    1.    1.    1.   ]\n",
      " [1.    1.    1.    1.    1.    1.    1.    1.    1.   ]]\n"
     ]
    }
   ],
   "source": [
    "acc_matrix = np.zeros((len(Gammas), len(Cs)))\n",
    "\n",
    "for i, gamma in enumerate(Gammas):\n",
    "    for j, C in enumerate(Cs):\n",
    "        clf = svm.SVC(kernel='rbf', gamma=gamma, C=C)\n",
    "        clf.fit(train, train_class)\n",
    "        acc_matrix[i, j] = clf.score(test, test_class)\n",
    "\n",
    "print(acc_matrix)"
   ]
  },
  {
   "cell_type": "markdown",
   "metadata": {},
   "source": [
    "## (b)"
   ]
  },
  {
   "cell_type": "code",
   "execution_count": 77,
   "metadata": {},
   "outputs": [
    {
     "name": "stdout",
     "output_type": "stream",
     "text": [
      "[[1. 1. 1. 1. 1. 1. 1. 1. 1.]\n",
      " [1. 1. 1. 1. 1. 1. 1. 1. 1.]\n",
      " [1. 1. 1. 1. 1. 1. 1. 1. 1.]\n",
      " [1. 1. 1. 1. 1. 1. 1. 1. 1.]\n",
      " [1. 1. 1. 1. 1. 1. 1. 1. 1.]\n",
      " [1. 1. 1. 1. 1. 1. 1. 1. 1.]\n",
      " [1. 1. 1. 1. 1. 1. 1. 1. 1.]\n",
      " [1. 1. 1. 1. 1. 1. 1. 1. 1.]\n",
      " [1. 1. 1. 1. 1. 1. 1. 1. 1.]]\n"
     ]
    }
   ],
   "source": [
    "acc_matrix = np.zeros((len(Gammas), len(Cs)))\n",
    "\n",
    "for i, gamma in enumerate(Gammas):\n",
    "    for j, C in enumerate(Cs):\n",
    "        clf = svm.SVC(kernel='linear', gamma=gamma, C=C)\n",
    "        clf.fit(train, train_class)\n",
    "        acc_matrix[i, j] = clf.score(test, test_class)\n",
    "\n",
    "print(acc_matrix)"
   ]
  },
  {
   "cell_type": "code",
   "execution_count": 79,
   "metadata": {},
   "outputs": [
    {
     "name": "stdout",
     "output_type": "stream",
     "text": [
      "Degeree 1\n",
      "[[0.94  0.94  0.94  0.94  0.94  0.985 0.99  0.995 1.   ]\n",
      " [0.94  0.94  0.94  0.94  0.985 0.99  0.995 1.    1.   ]\n",
      " [0.94  0.94  0.94  0.985 0.99  0.995 1.    1.    1.   ]\n",
      " [0.94  0.94  0.985 0.99  0.995 1.    1.    1.    1.   ]\n",
      " [0.94  0.985 0.99  0.995 1.    1.    1.    1.    1.   ]\n",
      " [0.985 0.99  0.995 1.    1.    1.    1.    1.    1.   ]\n",
      " [0.99  0.995 1.    1.    1.    1.    1.    1.    1.   ]\n",
      " [0.995 1.    1.    1.    1.    1.    1.    1.    1.   ]\n",
      " [1.    1.    1.    1.    1.    1.    1.    1.    1.   ]]\n",
      "Degeree 2\n",
      "[[0.575 0.575 0.575 0.575 0.575 0.575 0.575 0.575 0.575]\n",
      " [0.575 0.575 0.575 0.575 0.575 0.575 0.575 0.575 0.575]\n",
      " [0.575 0.575 0.575 0.575 0.575 0.575 0.575 0.575 0.69 ]\n",
      " [0.575 0.575 0.575 0.575 0.575 0.575 0.69  0.84  0.92 ]\n",
      " [0.575 0.575 0.575 0.575 0.69  0.84  0.92  0.955 0.99 ]\n",
      " [0.575 0.575 0.69  0.84  0.92  0.955 0.99  0.99  0.995]\n",
      " [0.69  0.84  0.92  0.955 0.99  0.99  0.995 1.    1.   ]\n",
      " [0.92  0.955 0.99  0.99  0.995 1.    1.    1.    1.   ]\n",
      " [0.99  0.99  0.995 1.    1.    1.    1.    1.    1.   ]]\n",
      "Degeree 3\n",
      "[[0.535 0.535 0.535 0.535 0.535 0.535 0.535 0.535 0.535]\n",
      " [0.535 0.535 0.535 0.535 0.535 0.535 0.535 0.535 0.535]\n",
      " [0.535 0.535 0.535 0.535 0.535 0.535 0.535 0.535 0.535]\n",
      " [0.535 0.535 0.535 0.535 0.535 0.535 0.535 0.535 0.535]\n",
      " [0.535 0.535 0.535 0.535 0.535 0.535 0.535 0.57  0.64 ]\n",
      " [0.535 0.535 0.535 0.535 0.57  0.64  0.725 0.825 0.855]\n",
      " [0.535 0.57  0.64  0.725 0.825 0.855 0.93  0.96  0.98 ]\n",
      " [0.725 0.825 0.855 0.93  0.96  0.98  0.985 0.99  0.99 ]\n",
      " [0.93  0.96  0.98  0.985 0.99  0.99  0.995 0.995 0.995]]\n"
     ]
    }
   ],
   "source": [
    "for d in range(1, 4):\n",
    "    acc_matrix = np.zeros((len(Gammas), len(Cs)))\n",
    "    for i, gamma in enumerate(Gammas):\n",
    "        for j, C in enumerate(Cs):\n",
    "            clf = svm.SVC(kernel='poly', gamma=gamma, C=C, degree=d)\n",
    "            clf.fit(train, train_class)\n",
    "            acc_matrix[i, j] = clf.score(test, test_class)\n",
    "\n",
    "    print(f'Degeree {d}')\n",
    "    print(acc_matrix)"
   ]
  }
 ],
 "metadata": {
  "kernelspec": {
   "display_name": "Python 3",
   "language": "python",
   "name": "python3"
  },
  "language_info": {
   "codemirror_mode": {
    "name": "ipython",
    "version": 3
   },
   "file_extension": ".py",
   "mimetype": "text/x-python",
   "name": "python",
   "nbconvert_exporter": "python",
   "pygments_lexer": "ipython3",
   "version": "3.8.1"
  }
 },
 "nbformat": 4,
 "nbformat_minor": 2
}

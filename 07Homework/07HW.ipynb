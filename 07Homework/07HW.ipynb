{
 "cells": [
  {
   "cell_type": "markdown",
   "metadata": {},
   "source": [
    "# Problem 1"
   ]
  },
  {
   "cell_type": "markdown",
   "metadata": {},
   "source": [
    "![image.png](07hw1p.jpg)"
   ]
  },
  {
   "cell_type": "markdown",
   "metadata": {},
   "source": [
    "![image.jpg](07hw2p.jpg)"
   ]
  },
  {
   "cell_type": "markdown",
   "metadata": {},
   "source": [
    "## (f)"
   ]
  },
  {
   "cell_type": "code",
   "execution_count": 96,
   "metadata": {},
   "outputs": [
    {
     "data": {
      "image/png": "[encoded data removed]",
      "text/plain": [
       "<Figure size 432x288 with 1 Axes>"
      ]
     },
     "metadata": {
      "needs_background": "light"
     },
     "output_type": "display_data"
    }
   ],
   "source": [
    "import matplotlib.pyplot as plt\n",
    "import numpy as np\n",
    "\n",
    "x = np.array([[-1, 1, 1], [1, 1, 1], [0, 0, 0]])\n",
    "y = np.array([0, 1, 0])\n",
    "\n",
    "x1 = np.linspace(-2, 2, 1000)\n",
    "x2 = pow(x1, 2) + 1/2\n",
    "\n",
    "x1_point = [-1, 1, 0]\n",
    "x2_point = [1, 1, 0]\n",
    "plt.plot(x1, x2, 'orange')\n",
    "plt.scatter(x1_point, x2_point)\n",
    "plt.scatter(0, 1)\n",
    "plt.ylim(-1, 3)\n",
    "plt.show()"
   ]
  },
  {
   "cell_type": "markdown",
   "metadata": {},
   "source": [
    "# Problem 2"
   ]
  },
  {
   "cell_type": "code",
   "execution_count": 74,
   "metadata": {},
   "outputs": [],
   "source": [
    "import scipy.io as sio\n",
    "from tqdm import tqdm\n",
    "from sklearn import svm\n",
    "from sklearn.metrics import f1_score, accuracy_score, recall_score, precision_score, average_precision_score"
   ]
  },
  {
   "cell_type": "code",
   "execution_count": 3,
   "metadata": {},
   "outputs": [],
   "source": [
    "mat_contents = sio.loadmat('07HW2_digit.mat')\n",
    "train_data = np.array([mat_contents[key].astype(float) for key in mat_contents.keys() if key.startswith('train')])\n",
    "test_data = np.array([mat_contents[key].astype(float) for key in mat_contents.keys() if key.startswith('test')])"
   ]
  },
  {
   "cell_type": "code",
   "execution_count": 4,
   "metadata": {},
   "outputs": [],
   "source": [
    "def normalize(data):\n",
    "    min_val = np.min(data)\n",
    "    max_val = np.max(data)\n",
    "    return (data - min_val) / (max_val - min_val)\n",
    "\n",
    "train_data = normalize(train_data)\n",
    "test_data = normalize(test_data)"
   ]
  },
  {
   "cell_type": "code",
   "execution_count": 5,
   "metadata": {},
   "outputs": [],
   "source": [
    "Gammas = [2**i for i in range(-14, -5)]\n",
    "Cs = [2**i for i in range(-5, 4)]\n",
    "\n",
    "train_class = np.repeat(range(2), train_data[0].shape[0])\n",
    "test_class = np.repeat(range(2), test_data[0].shape[0])\n",
    "train = np.append(train_data[0, :], train_data[1, :], axis=0)\n",
    "test = np.append(test_data[0, :], test_data[1, :], axis=0)"
   ]
  },
  {
   "cell_type": "markdown",
   "metadata": {},
   "source": [
    "## (a)"
   ]
  },
  {
   "cell_type": "code",
   "execution_count": 76,
   "metadata": {},
   "outputs": [
    {
     "name": "stdout",
     "output_type": "stream",
     "text": [
      "[[0.94  0.94  0.94  0.94  0.985 0.99  0.995 1.    1.   ]\n",
      " [0.94  0.94  0.94  0.985 0.99  0.995 1.    1.    1.   ]\n",
      " [0.94  0.94  0.985 0.99  0.995 1.    1.    1.    1.   ]\n",
      " [0.945 0.985 0.99  0.995 1.    1.    1.    1.    1.   ]\n",
      " [0.985 0.99  0.995 1.    1.    1.    1.    1.    1.   ]\n",
      " [0.99  0.995 1.    1.    1.    1.    1.    1.    1.   ]\n",
      " [0.995 1.    1.    1.    1.    1.    1.    1.    1.   ]\n",
      " [1.    1.    1.    1.    1.    1.    1.    1.    1.   ]\n",
      " [1.    1.    1.    1.    1.    1.    1.    1.    1.   ]]\n"
     ]
    }
   ],
   "source": [
    "acc_matrix = np.zeros((len(Gammas), len(Cs)))\n",
    "\n",
    "for i, gamma in enumerate(Gammas):\n",
    "    for j, C in enumerate(Cs):\n",
    "        clf = svm.SVC(kernel='rbf', gamma=gamma, C=C)\n",
    "        clf.fit(train, train_class)\n",
    "        acc_matrix[i, j] = clf.score(test, test_class)\n",
    "\n",
    "print(acc_matrix)"
   ]
  },
  {
   "cell_type": "markdown",
   "metadata": {},
   "source": [
    "The best piar of gamma and C is a lot, so I choose $gamma=2^{-6}$ and $C=2^3$"
   ]
  },
  {
   "cell_type": "markdown",
   "metadata": {},
   "source": [
    "## (b)"
   ]
  },
  {
   "cell_type": "code",
   "execution_count": 77,
   "metadata": {},
   "outputs": [
    {
     "name": "stdout",
     "output_type": "stream",
     "text": [
      "[[1. 1. 1. 1. 1. 1. 1. 1. 1.]\n",
      " [1. 1. 1. 1. 1. 1. 1. 1. 1.]\n",
      " [1. 1. 1. 1. 1. 1. 1. 1. 1.]\n",
      " [1. 1. 1. 1. 1. 1. 1. 1. 1.]\n",
      " [1. 1. 1. 1. 1. 1. 1. 1. 1.]\n",
      " [1. 1. 1. 1. 1. 1. 1. 1. 1.]\n",
      " [1. 1. 1. 1. 1. 1. 1. 1. 1.]\n",
      " [1. 1. 1. 1. 1. 1. 1. 1. 1.]\n",
      " [1. 1. 1. 1. 1. 1. 1. 1. 1.]]\n"
     ]
    }
   ],
   "source": [
    "acc_matrix = np.zeros((len(Gammas), len(Cs)))\n",
    "\n",
    "for i, gamma in enumerate(Gammas):\n",
    "    for j, C in enumerate(Cs):\n",
    "        clf = svm.SVC(kernel='linear', gamma=gamma, C=C)\n",
    "        clf.fit(train, train_class)\n",
    "        acc_matrix[i, j] = clf.score(test, test_class)\n",
    "\n",
    "print(acc_matrix)"
   ]
  },
  {
   "cell_type": "code",
   "execution_count": 79,
   "metadata": {},
   "outputs": [
    {
     "name": "stdout",
     "output_type": "stream",
     "text": [
      "Degeree 1\n",
      "[[0.94  0.94  0.94  0.94  0.94  0.985 0.99  0.995 1.   ]\n",
      " [0.94  0.94  0.94  0.94  0.985 0.99  0.995 1.    1.   ]\n",
      " [0.94  0.94  0.94  0.985 0.99  0.995 1.    1.    1.   ]\n",
      " [0.94  0.94  0.985 0.99  0.995 1.    1.    1.    1.   ]\n",
      " [0.94  0.985 0.99  0.995 1.    1.    1.    1.    1.   ]\n",
      " [0.985 0.99  0.995 1.    1.    1.    1.    1.    1.   ]\n",
      " [0.99  0.995 1.    1.    1.    1.    1.    1.    1.   ]\n",
      " [0.995 1.    1.    1.    1.    1.    1.    1.    1.   ]\n",
      " [1.    1.    1.    1.    1.    1.    1.    1.    1.   ]]\n",
      "Degeree 2\n",
      "[[0.575 0.575 0.575 0.575 0.575 0.575 0.575 0.575 0.575]\n",
      " [0.575 0.575 0.575 0.575 0.575 0.575 0.575 0.575 0.575]\n",
      " [0.575 0.575 0.575 0.575 0.575 0.575 0.575 0.575 0.69 ]\n",
      " [0.575 0.575 0.575 0.575 0.575 0.575 0.69  0.84  0.92 ]\n",
      " [0.575 0.575 0.575 0.575 0.69  0.84  0.92  0.955 0.99 ]\n",
      " [0.575 0.575 0.69  0.84  0.92  0.955 0.99  0.99  0.995]\n",
      " [0.69  0.84  0.92  0.955 0.99  0.99  0.995 1.    1.   ]\n",
      " [0.92  0.955 0.99  0.99  0.995 1.    1.    1.    1.   ]\n",
      " [0.99  0.99  0.995 1.    1.    1.    1.    1.    1.   ]]\n",
      "Degeree 3\n",
      "[[0.535 0.535 0.535 0.535 0.535 0.535 0.535 0.535 0.535]\n",
      " [0.535 0.535 0.535 0.535 0.535 0.535 0.535 0.535 0.535]\n",
      " [0.535 0.535 0.535 0.535 0.535 0.535 0.535 0.535 0.535]\n",
      " [0.535 0.535 0.535 0.535 0.535 0.535 0.535 0.535 0.535]\n",
      " [0.535 0.535 0.535 0.535 0.535 0.535 0.535 0.57  0.64 ]\n",
      " [0.535 0.535 0.535 0.535 0.57  0.64  0.725 0.825 0.855]\n",
      " [0.535 0.57  0.64  0.725 0.825 0.855 0.93  0.96  0.98 ]\n",
      " [0.725 0.825 0.855 0.93  0.96  0.98  0.985 0.99  0.99 ]\n",
      " [0.93  0.96  0.98  0.985 0.99  0.99  0.995 0.995 0.995]]\n"
     ]
    }
   ],
   "source": [
    "for d in range(1, 4):\n",
    "    acc_matrix = np.zeros((len(Gammas), len(Cs)))\n",
    "    for i, gamma in enumerate(Gammas):\n",
    "        for j, C in enumerate(Cs):\n",
    "            clf = svm.SVC(kernel='poly', gamma=gamma, C=C, degree=d)\n",
    "            clf.fit(train, train_class)\n",
    "            acc_matrix[i, j] = clf.score(test, test_class)\n",
    "\n",
    "    print(f'Degeree {d}')\n",
    "    print(acc_matrix)"
   ]
  },
  {
   "cell_type": "markdown",
   "metadata": {},
   "source": [
    "To use a linear kernel, the accuraies are all 100%.\n",
    "\n",
    "With polynomial kernels, the higher the degrees the lower the accuracy. Therefore, I would like to choose Degree1 kernel. Not only is the accuracy, but also it has less computational cost. The pairs of gamma and C are $gamma=2^{-14}$ and $C=2^3$"
   ]
  },
  {
   "cell_type": "markdown",
   "metadata": {},
   "source": [
    "## (c)"
   ]
  },
  {
   "cell_type": "code",
   "execution_count": 68,
   "metadata": {},
   "outputs": [],
   "source": [
    "def prepare_data(data, target_class):\n",
    "    other_classes = [i for i in range(10) if i != target_class]\n",
    "\n",
    "    # Get data for the target class\n",
    "    target_data = data[target_class]\n",
    "\n",
    "    # Get data for the other classes\n",
    "    other_data = data[other_classes].reshape(-1, data.shape[2])\n",
    "\n",
    "    # Create class labels for target and others\n",
    "    target_labels = np.ones(target_data.shape[0])  # Labels for target class (1)\n",
    "    other_labels = np.ones(other_data.shape[0], dtype=np.uint8)*-1   # Labels for other classes (0)\n",
    "\n",
    "    # Combine target and other data, and their respective labels\n",
    "    class_data = np.concatenate((target_data, other_data), axis=0)\n",
    "    class_labels = np.concatenate((target_labels, other_labels), axis=0)\n",
    "\n",
    "    class_data = normalize(class_data)\n",
    "\n",
    "    return class_data, class_labels\n",
    "\n",
    "\n",
    "def train_svm(train, train_class, test, test_class, gamma, C, kernel='rbf', degree=3):\n",
    "    if kernel == 'poly':\n",
    "        clf = svm.SVC(kernel=kernel, gamma=gamma, C=C, degree=degree)\n",
    "    else:\n",
    "        clf = svm.SVC(kernel=kernel, gamma=gamma, C=C)\n",
    "\n",
    "    clf.fit(train, train_class)\n",
    "    \n",
    "    # Calculate predictions on test data\n",
    "    predictions = clf.predict(test)\n",
    "\n",
    "    # Calculate evaluation metrics\n",
    "    accuracy = accuracy_score(test_class, predictions)\n",
    "    ap = average_precision_score(test_class, predictions)\n",
    "    precision = precision_score(test_class, predictions, zero_division=0)\n",
    "    f1 = f1_score(test_class, predictions, zero_division=0)\n",
    "    recall = recall_score(test_class, predictions, zero_division=0)\n",
    "\n",
    "    return accuracy, f1, recall, precision, ap"
   ]
  },
  {
   "cell_type": "markdown",
   "metadata": {},
   "source": [
    "### RBF"
   ]
  },
  {
   "cell_type": "code",
   "execution_count": 71,
   "metadata": {},
   "outputs": [
    {
     "name": "stdout",
     "output_type": "stream",
     "text": [
      "Best mAP: 0.8976153307855922\n",
      "Best accuracy: 0.9888\n",
      "Best precision: 0.9663575403949783\n",
      "Best recall: 0.9200000000000002\n",
      "Best f1: 0.9423856767547008\n",
      "Best gamma: 0.015625\n",
      "Best C: 8\n"
     ]
    }
   ],
   "source": [
    "Gammas = [2**i for i in range(-14, -5)]\n",
    "Cs = [2**i for i in range(-5, 4)]\n",
    "\n",
    "best_ap = 0\n",
    "best_acc = 0\n",
    "best_f1 = 0\n",
    "best_recall = 0\n",
    "best_precision = 0\n",
    "\n",
    "best_gamma = 0\n",
    "best_C = 0\n",
    "\n",
    "for gamma in tqdm(Gammas):\n",
    "    for C in Cs:\n",
    "        acc, f1, recall, precision, ap = [0]*10, [0]*10, [0]*10, [0]*10, [0]*10\n",
    "        for target_class in range(10):\n",
    "            train, train_class = prepare_data(train_data, target_class)\n",
    "            test, test_class = prepare_data(test_data, target_class)\n",
    "\n",
    "            acc[target_class], f1[target_class], recall[target_class], precision[target_class], ap[target_class] = \\\n",
    "                train_svm(train, train_class, test, test_class, gamma, C, kernel='rbf')\n",
    "\n",
    "        ap = np.mean(ap)\n",
    "        if ap > best_ap:\n",
    "            best_ap = ap\n",
    "            best_acc = np.mean(acc)\n",
    "            best_f1 = np.mean(f1)\n",
    "            best_recall = np.mean(recall)\n",
    "            best_precision = np.mean(precision)\n",
    "            best_gamma = gamma\n",
    "            best_C = C\n",
    "\n",
    "print(f'Best mAP: {best_ap}')\n",
    "print(f'Best accuracy: {best_acc}')\n",
    "print(f'Best precision: {best_precision}')\n",
    "print(f'Best recall: {best_recall}')\n",
    "print(f'Best f1: {best_f1}')\n",
    "print(f'Best gamma: {best_gamma}')\n",
    "print(f'Best C: {best_C}')"
   ]
  },
  {
   "cell_type": "markdown",
   "metadata": {},
   "source": [
    "### Linear"
   ]
  },
  {
   "cell_type": "code",
   "execution_count": 79,
   "metadata": {},
   "outputs": [
    {
     "name": "stderr",
     "output_type": "stream",
     "text": [
      "100%|██████████| 9/9 [16:07<00:00, 107.50s/it]"
     ]
    },
    {
     "name": "stdout",
     "output_type": "stream",
     "text": [
      "Best mAP: 0.7786100549992834\n",
      "Best accuracy: 0.9753000000000001\n",
      "Best precision: 0.9169169846353811\n",
      "Best recall: 0.827\n",
      "Best f1: 0.8687618854637064\n",
      "Best gamma: 6.103515625e-05\n",
      "Best C: 0.0625\n"
     ]
    },
    {
     "name": "stderr",
     "output_type": "stream",
     "text": [
      "\n"
     ]
    }
   ],
   "source": [
    "Gammas = [2**i for i in range(-14, -5)]\n",
    "Cs = [2**i for i in range(-5, 4)]\n",
    "\n",
    "best_ap = 0\n",
    "best_acc = 0\n",
    "best_f1 = 0\n",
    "best_recall = 0\n",
    "best_precision = 0\n",
    "\n",
    "best_gamma = 0\n",
    "best_C = 0\n",
    "\n",
    "for gamma in tqdm(Gammas):\n",
    "    for C in Cs:\n",
    "        acc, f1, recall, precision, ap = [0]*10, [0]*10, [0]*10, [0]*10, [0]*10\n",
    "        for target_class in range(10):\n",
    "            train, train_class = prepare_data(train_data, target_class)\n",
    "            test, test_class = prepare_data(test_data, target_class)\n",
    "\n",
    "            acc[target_class], f1[target_class], recall[target_class], precision[target_class], ap[target_class] = \\\n",
    "                train_svm(train, train_class, test, test_class, gamma, C, kernel='linear')\n",
    "\n",
    "        ap = np.mean(ap)\n",
    "        if ap > best_ap:\n",
    "            best_ap = ap\n",
    "            best_acc = np.mean(acc)\n",
    "            best_f1 = np.mean(f1)\n",
    "            best_recall = np.mean(recall)\n",
    "            best_precision = np.mean(precision)\n",
    "            best_gamma = gamma\n",
    "            best_C = C\n",
    "\n",
    "print(f'Best mAP: {best_ap}')\n",
    "print(f'Best accuracy: {best_acc}')\n",
    "print(f'Best precision: {best_precision}')\n",
    "print(f'Best recall: {best_recall}')\n",
    "print(f'Best f1: {best_f1}')\n",
    "print(f'Best gamma: {best_gamma}')\n",
    "print(f'Best C: {best_C}')"
   ]
  },
  {
   "cell_type": "markdown",
   "metadata": {},
   "source": [
    "### Poly"
   ]
  },
  {
   "cell_type": "code",
   "execution_count": 80,
   "metadata": {},
   "outputs": [
    {
     "name": "stderr",
     "output_type": "stream",
     "text": [
      "100%|██████████| 9/9 [27:50<00:00, 185.61s/it]\n"
     ]
    },
    {
     "name": "stdout",
     "output_type": "stream",
     "text": [
      "Degree 2\n",
      "Best mAP: 0.8847781065867253\n",
      "Best accuracy: 0.9873999999999998\n",
      "Best precision: 0.9550824520804057\n",
      "Best recall: 0.917\n",
      "Best f1: 0.9355260790930702\n",
      "Best gamma: 0.015625\n",
      "Best C: 8\n"
     ]
    },
    {
     "name": "stderr",
     "output_type": "stream",
     "text": [
      "100%|██████████| 9/9 [28:54<00:00, 192.77s/it]\n"
     ]
    },
    {
     "name": "stdout",
     "output_type": "stream",
     "text": [
      "Degree 3\n",
      "Best mAP: 0.8847781065867253\n",
      "Best accuracy: 0.9873999999999998\n",
      "Best precision: 0.9550824520804057\n",
      "Best recall: 0.917\n",
      "Best f1: 0.9355260790930702\n",
      "Best gamma: 0.015625\n",
      "Best C: 8\n"
     ]
    },
    {
     "name": "stderr",
     "output_type": "stream",
     "text": [
      "100%|██████████| 9/9 [29:33<00:00, 197.06s/it]"
     ]
    },
    {
     "name": "stdout",
     "output_type": "stream",
     "text": [
      "Degree 4\n",
      "Best mAP: 0.8847781065867253\n",
      "Best accuracy: 0.9873999999999998\n",
      "Best precision: 0.9550824520804057\n",
      "Best recall: 0.917\n",
      "Best f1: 0.9355260790930702\n",
      "Best gamma: 0.015625\n",
      "Best C: 8\n"
     ]
    },
    {
     "name": "stderr",
     "output_type": "stream",
     "text": [
      "\n"
     ]
    }
   ],
   "source": [
    "Gammas = [2**i for i in range(-14, -5)]\n",
    "Cs = [2**i for i in range(-5, 4)]\n",
    "\n",
    "best_ap = 0\n",
    "best_acc = 0\n",
    "best_f1 = 0\n",
    "best_recall = 0\n",
    "best_precision = 0\n",
    "\n",
    "best_gamma = 0\n",
    "best_C = 0\n",
    "\n",
    "for d in range(2, 5):\n",
    "    for gamma in tqdm(Gammas):\n",
    "        for C in Cs:\n",
    "            acc, f1, recall, precision, ap = [0]*10, [0]*10, [0]*10, [0]*10, [0]*10\n",
    "            for target_class in range(10):\n",
    "                train, train_class = prepare_data(train_data, target_class)\n",
    "                test, test_class = prepare_data(test_data, target_class)\n",
    "\n",
    "                acc[target_class], f1[target_class], recall[target_class], precision[target_class], ap[target_class] = \\\n",
    "                    train_svm(train, train_class, test, test_class, gamma, C, kernel='poly', degree=d)\n",
    "\n",
    "            ap = np.mean(ap)\n",
    "            if ap > best_ap:\n",
    "                best_ap = ap\n",
    "                best_acc = np.mean(acc)\n",
    "                best_f1 = np.mean(f1)\n",
    "                best_recall = np.mean(recall)\n",
    "                best_precision = np.mean(precision)\n",
    "                best_gamma = gamma\n",
    "                best_C = C\n",
    "\n",
    "    print(f'Degree {d}')\n",
    "    print(f'Best mAP: {best_ap}')\n",
    "    print(f'Best accuracy: {best_acc}')\n",
    "    print(f'Best precision: {best_precision}')\n",
    "    print(f'Best recall: {best_recall}')\n",
    "    print(f'Best f1: {best_f1}')\n",
    "    print(f'Best gamma: {best_gamma}')\n",
    "    print(f'Best C: {best_C}')"
   ]
  },
  {
   "cell_type": "markdown",
   "metadata": {},
   "source": [
    "### Strategy\n",
    "\n",
    "I used one by others method. In other words, I choose a number which I want to classify, and I other as the same type. By doing so, I can reamain SVM as a two classes classification task. Then I will repeat the process for 10 numbers, and will calculate the mean value of their respective accuracy. So I can get a model to classify the 10 numbers!\n",
    "\n",
    "\n",
    "### Final Result\n",
    "\n",
    "#### Kernel: rbf <br>\n",
    "Best mAP: 0.8976153307855922<br>\n",
    "Best accuracy: 0.9888<br>\n",
    "Best precision: 0.9663575403949783<br>\n",
    "Best recall: 0.9200000000000002<br>\n",
    "Best f1: 0.9423856767547008<br>\n",
    "Best gamma: 0.015625<br>\n",
    "Best C: 8<br>\n",
    "\n",
    "#### Kernel: linear<br>\n",
    "Best mAP: 0.7786100549992834<br>\n",
    "Best accuracy: 0.9753000000000001<br>\n",
    "Best precision: 0.9169169846353811<br>\n",
    "Best recall: 0.827<br>\n",
    "Best f1: 0.8687618854637064<br>\n",
    "Best gamma: 6.103515625e-05<br>\n",
    "Best C: 0.0625<br>\n",
    "\n",
    "#### Kernel: poly<br>\n",
    "Degree 2<br>\n",
    "Best mAP: 0.8847781065867253<br>\n",
    "Best accuracy: 0.9873999999999998<br>\n",
    "Best precision: 0.9550824520804057<br>\n",
    "Best recall: 0.917<br>\n",
    "Best f1: 0.9355260790930702<br>\n",
    "Best gamma: 0.015625<br>\n",
    "Best C: 8<br>\n",
    "\n",
    "Degree 3<br>\n",
    "Best mAP: 0.8847781065867253<br>\n",
    "Best accuracy: 0.9873999999999998<br>\n",
    "Best precision: 0.9550824520804057<br>\n",
    "Best recall: 0.917<br>\n",
    "Best f1: 0.9355260790930702<br>\n",
    "Best gamma: 0.015625<br>\n",
    "Best C: 8<br>\n",
    "\n",
    "Degree 4<br>\n",
    "Best mAP: 0.8847781065867253<br>\n",
    "Best accuracy: 0.9873999999999998<br>\n",
    "Best precision: 0.9550824520804057<br>\n",
    "Best recall: 0.917<br>\n",
    "Best f1: 0.9355260790930702<br>\n",
    "Best gamma: 0.015625<br>\n",
    "Best C: 8<br>\n",
    "\n",
    "#### Discussion\n",
    "\n",
    "By comparing the mAP with different kernels, the **rbf** has the best performance. However the result might not be the best because the method we find the gamma and C is not precise. If we want to find the best gamma and C, we can train the model with gradient decent to find a piar of gamma and C where is minima."
   ]
  }
 ],
 "metadata": {
  "kernelspec": {
   "display_name": "Python 3",
   "language": "python",
   "name": "python3"
  },
  "language_info": {
   "codemirror_mode": {
    "name": "ipython",
    "version": 3
   },
   "file_extension": ".py",
   "mimetype": "text/x-python",
   "name": "python",
   "nbconvert_exporter": "python",
   "pygments_lexer": "ipython3",
   "version": "3.8.1"
  }
 },
 "nbformat": 4,
 "nbformat_minor": 2
}
